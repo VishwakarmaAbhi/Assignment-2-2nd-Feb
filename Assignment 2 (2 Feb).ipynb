{
 "cells": [
  {
   "cell_type": "markdown",
   "id": "a9060092-923b-4f0b-bec5-0af91fe4fcf5",
   "metadata": {},
   "source": [
    "1. Explain with an example each when to use for loop and while loop."
   ]
  },
  {
   "cell_type": "markdown",
   "id": "2632e568-697c-4192-9eaa-ad4a5f8bdd63",
   "metadata": {},
   "source": [
    "For Loop :"
   ]
  },
  {
   "cell_type": "code",
   "execution_count": null,
   "id": "247f43c3-40a2-42f1-8165-10f2c56e3540",
   "metadata": {},
   "outputs": [],
   "source": [
    "#When we know how many times itration need to be done.\n",
    "#print 1 to 10"
   ]
  },
  {
   "cell_type": "code",
   "execution_count": 1,
   "id": "c8917ffe-f1a9-4c96-8ffc-ebefee8d0267",
   "metadata": {},
   "outputs": [
    {
     "name": "stdout",
     "output_type": "stream",
     "text": [
      "1 2 3 4 5 6 7 8 9 10 "
     ]
    }
   ],
   "source": [
    "for i in range(1 , 11):\n",
    "    print(i, end =\" \")"
   ]
  },
  {
   "cell_type": "markdown",
   "id": "310b159f-a569-479f-9157-db058bd3277d",
   "metadata": {},
   "source": [
    "While Loop :  \n"
   ]
  },
  {
   "cell_type": "code",
   "execution_count": 3,
   "id": "43c7153a-2958-47db-b2cc-6dcc03ba1782",
   "metadata": {},
   "outputs": [
    {
     "name": "stdin",
     "output_type": "stream",
     "text": [
      "Do you want to start Y/N ? Y\n"
     ]
    }
   ],
   "source": [
    "#When we know how many times itration need to be done.\n",
    "#Take the input\n",
    "ex= input(\"Do you want to start Y/N ?\") "
   ]
  },
  {
   "cell_type": "code",
   "execution_count": 6,
   "id": "ae3b9dc6-5c45-462b-b922-19806ad57ac0",
   "metadata": {},
   "outputs": [],
   "source": [
    "while ex!='n':\n",
    "    ex= input('Type n if you want to close the game?')\n",
    "    while ex==\"n\": # create the 2nd condition\n",
    "        break # break the while loop if user watns to close\n",
    "    else:\n",
    "        print()\n",
    "        print()\n",
    "        print(\"hello world\\n\\n\\n Welcome to while loop\")\n",
    "        print()\n",
    "    "
   ]
  },
  {
   "cell_type": "markdown",
   "id": "b0610ee7-2eb8-42cd-9201-02994c0a5ffe",
   "metadata": {},
   "source": [
    "2. Write  a python program to print the sum and product of the first 10 natural nubers using for and while loop."
   ]
  },
  {
   "cell_type": "code",
   "execution_count": 10,
   "id": "bd4610e1-503e-4cbe-a9d2-112e7340d9c7",
   "metadata": {},
   "outputs": [
    {
     "name": "stdout",
     "output_type": "stream",
     "text": [
      "Sum of the first 10 natural numbers: 55\n",
      "Product of the 10 natural numbers: 3628800\n"
     ]
    }
   ],
   "source": [
    "#Using For Loop\n",
    "#Sum of the first 10 natural numbers using for loop\n",
    "\n",
    "sum = 0 \n",
    "for i in range (1, 11):\n",
    "    sum += i\n",
    "print(\"Sum of the first 10 natural numbers:\", sum)\n",
    "\n",
    "\n",
    "#Product of the first 10 natural numbers using for loop\n",
    "product = 1\n",
    "for i in range(1,11):\n",
    "    product*= i\n",
    "   \n",
    "print(\"Product of the 10 natural numbers:\", product)"
   ]
  },
  {
   "cell_type": "code",
   "execution_count": 11,
   "id": "857ac237-ea8b-440c-8517-4bd6a60d523b",
   "metadata": {},
   "outputs": [
    {
     "name": "stdout",
     "output_type": "stream",
     "text": [
      "Sum of the first 10 natural numbers: 55\n",
      "Product of the first 10 natural numbers: 3628800\n"
     ]
    }
   ],
   "source": [
    "#Sum of the first 10 natural numbers using while loop\n",
    "sum = 0\n",
    "i = 1\n",
    "while i <= 10:\n",
    "    sum += i\n",
    "    i += 1\n",
    "print(\"Sum of the first 10 natural numbers:\", sum)\n",
    "\n",
    "\n",
    "#Product of the 10 natural numbers using while loop\n",
    "product = 1\n",
    "i = 1 \n",
    "while i <= 10:\n",
    "    product *= i\n",
    "    i += 1\n",
    "print(\"Product of the first 10 natural numbers:\", product)"
   ]
  },
  {
   "cell_type": "markdown",
   "id": "b19f4e30-3696-4b0f-9b61-629e59beb02b",
   "metadata": {},
   "source": [
    "Q3. Create a python program to compute the electricity bill for a household.\n",
    "The per-unit charges in rupees are as follows: For the first 100 units, the user will be charged Rs. 4.5 per unit, for the next 100 units, the user will be charged Rs. 6 per unit, and for the next 100 units, the user will be charged Rs. 10 per unit, After 300 units and above the user will be charged Rs. 20 per unit. You are required to take the units of electricity consumed in a month from the user as input. Your program must pass this test case: when the unit of electricity consumed by the user in a month is 310, the total electricity bill should be 2250."
   ]
  },
  {
   "cell_type": "code",
   "execution_count": 12,
   "id": "8a588ec2-e46f-4f8c-b42e-c32e93997ff9",
   "metadata": {},
   "outputs": [
    {
     "name": "stdin",
     "output_type": "stream",
     "text": [
      "Enter the units of electricity consumed:  310\n"
     ]
    },
    {
     "name": "stdout",
     "output_type": "stream",
     "text": [
      "Total electricity bill: Rs. 2250.0\n"
     ]
    }
   ],
   "source": [
    "units_consumed = int(input(\"Enter the units of electricity consumed: \"))\n",
    "\n",
    "if units_consumed <= 100:\n",
    "    total_bill = units_consumed * 4.5\n",
    "elif units_consumed <= 200:\n",
    "    total_bill = 100 * 4.5 + (units_consumed - 100) * 6\n",
    "elif units_consumed <= 300:\n",
    "    total_bill = 100 * 4.5 + 100 * 6 + (units_consumed - 200) * 10\n",
    "else:\n",
    "    total_bill = 100 * 4.5 + 100 * 6 + 100 * 10 + (units_consumed - 300) * 20\n",
    "\n",
    "print(\"Total electricity bill: Rs.\", total_bill)\n",
    "\n"
   ]
  },
  {
   "cell_type": "markdown",
   "id": "c4b7e6c0-647d-46e8-af2a-6b4959494d14",
   "metadata": {},
   "source": [
    "\n",
    "\n",
    "Q4. Create a list of numbers from 1 to 100. use for loop and while loop to calculate the cube of each number and if the cube of that number is divisible by 4 or 5 then append that number in a list and print that list.\n"
   ]
  },
  {
   "cell_type": "code",
   "execution_count": 13,
   "id": "aa487cf1-df75-4bb0-a245-3173a58511b7",
   "metadata": {},
   "outputs": [
    {
     "name": "stdout",
     "output_type": "stream",
     "text": [
      "[8, 64, 125, 216, 512, 1000, 1728, 2744, 3375, 4096, 5832, 8000, 10648, 13824, 15625, 17576, 21952, 27000, 32768, 39304, 42875, 46656, 54872, 64000, 74088, 85184, 91125, 97336, 110592, 125000, 140608, 157464, 166375, 175616, 195112, 216000, 238328, 262144, 274625, 287496, 314432, 343000, 373248, 405224, 421875, 438976, 474552, 512000, 551368, 592704, 614125, 636056, 681472, 729000, 778688, 830584, 857375, 884736, 941192, 1000000]\n"
     ]
    }
   ],
   "source": [
    "l1=list(range(1,101))\n",
    "\n",
    "l2=[(n**3) for n in l1]\n",
    "l3=[]\n",
    "for i in l2 :\n",
    "    if i%4==0 or i%5==0:\n",
    "        l3.append(i)\n",
    "print(l3)\n"
   ]
  },
  {
   "cell_type": "markdown",
   "id": "5b9c7482-b053-450a-a706-b87020472440",
   "metadata": {},
   "source": [
    "Q5. Write a program to filter count vowels in the below - given string.\n",
    "string = \" I want to become a data scientist\"\n"
   ]
  },
  {
   "cell_type": "code",
   "execution_count": 28,
   "id": "1ea34f27-c202-4aee-80fe-fb9e8cf818fd",
   "metadata": {},
   "outputs": [
    {
     "name": "stdout",
     "output_type": "stream",
     "text": [
      "Number of vowels in the string: 12\n"
     ]
    }
   ],
   "source": [
    "l = \"I want to become a data scientist\"\n",
    "\n",
    "#convert the string to lowercase to handle both uppercase and lowercase vowels\n",
    "l = l.lower()\n",
    "\n",
    "#Initialize a variable  to store the count of vowels\n",
    "vowel_count = 0\n",
    "\n",
    "#Initialize a set of vowels\n",
    "a = \"aeiou\"\n",
    "\n",
    "#Loop through each character in the string\n",
    "for i in l:\n",
    "    if i in vowels:\n",
    "        vowel_count += 1 \n",
    "        \n",
    "print(\"Number of vowels in the string:\", vowel_count)\n",
    "\n"
   ]
  },
  {
   "cell_type": "code",
   "execution_count": null,
   "id": "50ffe514-34fd-49a1-893a-4b08934b1d72",
   "metadata": {},
   "outputs": [],
   "source": []
  }
 ],
 "metadata": {
  "kernelspec": {
   "display_name": "Python 3 (ipykernel)",
   "language": "python",
   "name": "python3"
  },
  "language_info": {
   "codemirror_mode": {
    "name": "ipython",
    "version": 3
   },
   "file_extension": ".py",
   "mimetype": "text/x-python",
   "name": "python",
   "nbconvert_exporter": "python",
   "pygments_lexer": "ipython3",
   "version": "3.10.6"
  }
 },
 "nbformat": 4,
 "nbformat_minor": 5
}
